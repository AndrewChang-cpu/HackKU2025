{
 "cells": [
  {
   "cell_type": "code",
   "execution_count": null,
   "metadata": {
    "vscode": {
     "languageId": "plaintext"
    }
   },
   "outputs": [],
   "source": [
    "import json\n",
    "import glob\n",
    "import os"
   ]
  },
  {
   "cell_type": "code",
   "execution_count": null,
   "metadata": {
    "vscode": {
     "languageId": "plaintext"
    }
   },
   "outputs": [],
   "source": [
    "def load_json_data(file_path):\n",
    "    \"\"\"\n",
    "    Load data from a JSON file.\n",
    "\n",
    "    Args:\n",
    "        file_path (str): Path to the JSON file\n",
    "\n",
    "    Returns:\n",
    "        dict: Dictionary containing the drug label data\n",
    "\n",
    "    Raises:\n",
    "        FileNotFoundError: If the file doesn't exist\n",
    "        json.JSONDecodeError: If the file contains invalid JSON\n",
    "    \"\"\"\n",
    "    try:\n",
    "        with open(file_path, 'r') as file:\n",
    "            return json.load(file)\n",
    "    except FileNotFoundError:\n",
    "        print(f\"Error: File '{file_path}' not found.\")\n",
    "        return {}\n",
    "    except json.JSONDecodeError:\n",
    "        print(f\"Error: File '{file_path}' contains invalid JSON.\")\n",
    "        return {}"
   ]
  },
  {
   "cell_type": "code",
   "execution_count": null,
   "metadata": {
    "vscode": {
     "languageId": "plaintext"
    }
   },
   "outputs": [],
   "source": [
    "def parse_upc_ndc_mapping(data):\n",
    "    \"\"\"\n",
    "    Parse through the drug label JSON data and create a mapping of UPC to NDC.\n",
    "\n",
    "    Args:\n",
    "        data (dict): Dictionary containing drug label information\n",
    "\n",
    "    Returns:\n",
    "        dict: Dictionary mapping UPCs to their corresponding NDCs\n",
    "    \"\"\"\n",
    "    upc_ndc_map = {}\n",
    "    for obj in data['results']:\n",
    "        if 'product_ndc' in obj and 'openfda' in obj:\n",
    "            if 'upc' in obj['openfda']:\n",
    "                for upc in obj['openfda']['upc']:\n",
    "                    upc_ndc_map[upc] = obj['product_ndc']\n",
    "\n",
    "    return upc_ndc_map"
   ]
  },
  {
   "cell_type": "code",
   "execution_count": null,
   "metadata": {
    "vscode": {
     "languageId": "plaintext"
    }
   },
   "outputs": [],
   "source": [
    "json_directory = \".\"  # Change this to your directory path\n",
    "json_files = glob.glob(os.path.join(json_directory, \"drug-ndc-*.json\"))\n",
    "\n",
    "# Initialize empty data dictionary\n",
    "data = {}\n",
    "data['results'] = []\n",
    "\n",
    "# Load and combine data from all JSON files\n",
    "for json_file in json_files:\n",
    "    print(f\"Loading {json_file}...\")\n",
    "    file_data = load_json_data(json_file)\n",
    "    if file_data and 'results' in file_data:\n",
    "        data['results'].extend(file_data['results'])\n",
    "\n",
    "if not data:\n",
    "    print(\"No data loaded. Exiting.\")\n",
    "    exit()\n",
    "\n",
    "mapping = parse_upc_ndc_mapping(data)\n",
    "\n",
    "# Print the results\n",
    "print(\"UPC to NDC Mapping:\")\n",
    "for upc, ndc in mapping.items():\n",
    "    print(f\"UPC: {upc} -> NDC: {ndc}\")\n",
    "    break\n",
    "\n",
    "# Save the mapping to a text file\n",
    "output_file = \"upc_ndc_mapping.txt\"\n",
    "try:\n",
    "    with open(output_file, 'w') as f:\n",
    "        for upc, ndc in mapping.items():\n",
    "            f.write(f\"{upc},{ndc}\\n\")\n",
    "    print(f\"\\nMapping saved to {output_file}\")\n",
    "except IOError:\n",
    "    print(f\"Error: Unable to write to file '{output_file}'\")"
   ]
  },
  {
   "cell_type": "code",
   "execution_count": null,
   "metadata": {
    "vscode": {
     "languageId": "plaintext"
    }
   },
   "outputs": [],
   "source": [
    "len(mapping)"
   ]
  }
 ],
 "metadata": {
  "language_info": {
   "name": "python"
  }
 },
 "nbformat": 4,
 "nbformat_minor": 2
}
