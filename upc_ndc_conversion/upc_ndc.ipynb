{
 "cells": [
  {
   "cell_type": "code",
   "execution_count": 18,
   "metadata": {},
   "outputs": [],
   "source": [
    "import json\n",
    "import glob\n",
    "import os"
   ]
  },
  {
   "cell_type": "code",
   "execution_count": 5,
   "metadata": {},
   "outputs": [],
   "source": [
    "def load_json_data(file_path):\n",
    "    \"\"\"\n",
    "    Load data from a JSON file.\n",
    "\n",
    "    Args:\n",
    "        file_path (str): Path to the JSON file\n",
    "\n",
    "    Returns:\n",
    "        dict: Dictionary containing the drug label data\n",
    "\n",
    "    Raises:\n",
    "        FileNotFoundError: If the file doesn't exist\n",
    "        json.JSONDecodeError: If the file contains invalid JSON\n",
    "    \"\"\"\n",
    "    try:\n",
    "        with open(file_path, 'r') as file:\n",
    "            return json.load(file)\n",
    "    except FileNotFoundError:\n",
    "        print(f\"Error: File '{file_path}' not found.\")\n",
    "        return {}\n",
    "    except json.JSONDecodeError:\n",
    "        print(f\"Error: File '{file_path}' contains invalid JSON.\")\n",
    "        return {}"
   ]
  },
  {
   "cell_type": "code",
   "execution_count": 14,
   "metadata": {},
   "outputs": [],
   "source": [
    "def parse_upc_ndc_mapping(data):\n",
    "    \"\"\"\n",
    "    Parse through the drug label JSON data and create a mapping of UPC to NDC.\n",
    "\n",
    "    Args:\n",
    "        data (dict): Dictionary containing drug label information\n",
    "\n",
    "    Returns:\n",
    "        dict: Dictionary mapping UPCs to their corresponding NDCs\n",
    "    \"\"\"\n",
    "    upc_ndc_map = {}\n",
    "    for obj in data['results']:\n",
    "        if 'openfda' in obj:\n",
    "            if 'upc' in obj['openfda'] and 'product_ndc' in obj['openfda']:\n",
    "                for upc in obj['openfda']['upc']:\n",
    "                    for ndc in obj['openfda']['product_ndc']:\n",
    "                        upc_ndc_map[upc] = ndc\n",
    "\n",
    "    return upc_ndc_map"
   ]
  },
  {
   "cell_type": "code",
   "execution_count": 22,
   "metadata": {},
   "outputs": [
    {
     "name": "stdout",
     "output_type": "stream",
     "text": [
      "Loading C:\\Users\\andre\\Downloads\\upc_ndc\\drug-label-0001-of-0013.json...\n",
      "Loading C:\\Users\\andre\\Downloads\\upc_ndc\\drug-label-0002-of-0013.json...\n",
      "Loading C:\\Users\\andre\\Downloads\\upc_ndc\\drug-label-0003-of-0013.json...\n",
      "Loading C:\\Users\\andre\\Downloads\\upc_ndc\\drug-label-0004-of-0013.json...\n",
      "Loading C:\\Users\\andre\\Downloads\\upc_ndc\\drug-label-0005-of-0013.json...\n",
      "Loading C:\\Users\\andre\\Downloads\\upc_ndc\\drug-label-0006-of-0013.json...\n",
      "Loading C:\\Users\\andre\\Downloads\\upc_ndc\\drug-label-0007-of-0013.json...\n",
      "Loading C:\\Users\\andre\\Downloads\\upc_ndc\\drug-label-0008-of-0013.json...\n",
      "Loading C:\\Users\\andre\\Downloads\\upc_ndc\\drug-label-0009-of-0013.json...\n",
      "Loading C:\\Users\\andre\\Downloads\\upc_ndc\\drug-label-0010-of-0013.json...\n",
      "Loading C:\\Users\\andre\\Downloads\\upc_ndc\\drug-label-0011-of-0013.json...\n",
      "Loading C:\\Users\\andre\\Downloads\\upc_ndc\\drug-label-0012-of-0013.json...\n",
      "Loading C:\\Users\\andre\\Downloads\\upc_ndc\\drug-label-0013-of-0013.json...\n",
      "UPC to NDC Mapping:\n",
      "UPC: 0300090020019 -> NDC: 67296-1821\n",
      "\n",
      "Mapping saved to upc_ndc_mapping.txt\n"
     ]
    }
   ],
   "source": [
    "json_directory = \"C:\\\\Users\\\\andre\\\\Downloads\\\\upc_ndc\"  # Change this to your directory path\n",
    "json_files = glob.glob(os.path.join(json_directory, \"drug-label-*.json\"))\n",
    "\n",
    "# Initialize empty data dictionary\n",
    "data = {}\n",
    "data['results'] = []\n",
    "\n",
    "# Load and combine data from all JSON files\n",
    "for json_file in json_files:\n",
    "    print(f\"Loading {json_file}...\")\n",
    "    file_data = load_json_data(json_file)\n",
    "    if file_data and 'results' in file_data:\n",
    "        data['results'].extend(file_data['results'])\n",
    "\n",
    "if not data:\n",
    "    print(\"No data loaded. Exiting.\")\n",
    "    exit()\n",
    "\n",
    "mapping = parse_upc_ndc_mapping(data)\n",
    "\n",
    "# Print the results\n",
    "print(\"UPC to NDC Mapping:\")\n",
    "for upc, ndc in mapping.items():\n",
    "    print(f\"UPC: {upc} -> NDC: {ndc}\")\n",
    "    break\n",
    "\n",
    "# Save the mapping to a text file\n",
    "output_file = \"upc_ndc_mapping.txt\"\n",
    "try:\n",
    "    with open(output_file, 'w') as f:\n",
    "        for upc, ndc in mapping.items():\n",
    "            f.write(f\"{upc},{ndc}\\n\")\n",
    "    print(f\"\\nMapping saved to {output_file}\")\n",
    "except IOError:\n",
    "    print(f\"Error: Unable to write to file '{output_file}'\")"
   ]
  },
  {
   "cell_type": "code",
   "execution_count": 23,
   "metadata": {},
   "outputs": [
    {
     "data": {
      "text/plain": [
       "34683"
      ]
     },
     "execution_count": 23,
     "metadata": {},
     "output_type": "execute_result"
    }
   ],
   "source": [
    "len(mapping)"
   ]
  }
 ],
 "metadata": {
  "kernelspec": {
   "display_name": "Python 3",
   "language": "python",
   "name": "python3"
  },
  "language_info": {
   "codemirror_mode": {
    "name": "ipython",
    "version": 3
   },
   "file_extension": ".py",
   "mimetype": "text/x-python",
   "name": "python",
   "nbconvert_exporter": "python",
   "pygments_lexer": "ipython3",
   "version": "3.12.4"
  }
 },
 "nbformat": 4,
 "nbformat_minor": 2
}
